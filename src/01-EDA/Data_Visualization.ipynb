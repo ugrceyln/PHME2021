{
 "cells": [
  {
   "cell_type": "code",
   "execution_count": null,
   "outputs": [],
   "source": [
    "\n",
    "import numpy as np\n",
    "import pandas as pd\n",
    "from numpy import nan\n",
    "import matplotlib.pyplot as plt\n",
    "%matplotlib inline"
   ],
   "metadata": {
    "collapsed": false,
    "pycharm": {
     "name": "#%%\n"
    }
   }
  },
  {
   "cell_type": "code",
   "execution_count": null,
   "outputs": [],
   "source": [
    "data_df_1 = pd.read_csv(\"D:/Datasets/PHME21/training_validation_1.csv\")\n",
    "data_df_2 = pd.read_csv(\"D:/Datasets/PHME21/training_validation_2.csv\")\n",
    "data_df = pd.concat([data_df_1, data_df_2], axis=0) # Merge data frames"
   ],
   "metadata": {
    "collapsed": false,
    "pycharm": {
     "name": "#%%\n"
    }
   }
  },
  {
   "cell_type": "code",
   "execution_count": null,
   "outputs": [],
   "source": [
    "fields_path = 'D:/Datasets/PHME21/training_validation_2/fields.csv'\n",
    "fields_df = pd.read_csv(fields_path)\n",
    "fields_df.columns = ['name', 'f0', 'f1', 'f2', 'f3', 'f4', 'f5', 'f6']\n",
    "\n",
    "fields_dict = {}\n",
    "\n",
    "for idx in range(fields_df.shape[0]):\n",
    "    name = fields_df.loc[idx, 'name']\n",
    "\n",
    "    _fields = []\n",
    "\n",
    "    for f in fields_df.columns[1:]:\n",
    "        if not (str(fields_df.loc[idx, f]) == 'nan'):\n",
    "            _fields.append(name + \"_\" + str(fields_df.loc[idx, f]))\n",
    "\n",
    "    fields_dict[idx] = {'name': fields_df.loc[idx, 'name'], 'fields': _fields}\n",
    "\n",
    "# print(fields_dict)\n"
   ],
   "metadata": {
    "collapsed": false,
    "pycharm": {
     "name": "#%%\n"
    }
   }
  },
  {
   "cell_type": "code",
   "execution_count": null,
   "outputs": [],
   "source": [
    "def data_visualization(data, name, fields):\n",
    "\n",
    "    # https://stackoverflow.com/questions/46063379/pandas-secondary-axis\n",
    "\n",
    "    class_ = data[\"class\"].iloc[0]\n",
    "    run_ = data[\"run\"].iloc[0]\n",
    "    field_df = data[fields]\n",
    "\n",
    "\n",
    "    if name + \"_vStd\" in fields:\n",
    "        fields_ = fields.copy()\n",
    "        fields_.remove(name + \"_vStd\")\n",
    "\n",
    "        ax = field_df[[name + \"_vStd\"]].reset_index(drop=True).plot(color='yellow')\n",
    "        field_df[fields_].reset_index(drop=True).plot(ax=ax, secondary_y=True)\n",
    "\n",
    "        # ax = field_df[fields_].reset_index(drop=True).plot()\n",
    "        # field_df[name + \"_vStd\"].reset_index(drop=True).plot(secondary_y=True, ax=ax, color='yellow')\n",
    "\n",
    "    else:\n",
    "        field_df.reset_index(drop=True).plot()\n",
    "\n",
    "    plt.xlabel(\"Cycles\")\n",
    "    plt.ylabel(name)\n",
    "    plt.title(\"{} Class_{} Run_{}\".format(name, class_, run_))\n",
    "    plt.show()\n",
    "    plt.clf()\n",
    "    "
   ],
   "metadata": {
    "collapsed": false,
    "pycharm": {
     "name": "#%%\n"
    }
   }
  },
  {
   "cell_type": "code",
   "execution_count": null,
   "outputs": [],
   "source": [
    "for f in fields_dict:\n",
    "    name = fields_dict[f]['name']\n",
    "    fields = fields_dict[f]['fields']\n",
    "\n",
    "    print(\"\\nname:\", name)\n",
    "\n",
    "    data_df.groupby([\"class\", \"run\"]).apply(data_visualization, name, fields)\n"
   ],
   "metadata": {
    "collapsed": false,
    "pycharm": {
     "name": "#%%\n"
    }
   }
  }
 ],
 "metadata": {
  "kernelspec": {
   "display_name": "Python 3",
   "language": "python",
   "name": "python3"
  },
  "language_info": {
   "codemirror_mode": {
    "name": "ipython",
    "version": 2
   },
   "file_extension": ".py",
   "mimetype": "text/x-python",
   "name": "python",
   "nbconvert_exporter": "python",
   "pygments_lexer": "ipython2",
   "version": "2.7.6"
  },
  "pycharm": {
   "stem_cell": {
    "cell_type": "raw",
    "source": [],
    "metadata": {
     "collapsed": false
    }
   }
  }
 },
 "nbformat": 4,
 "nbformat_minor": 0
}