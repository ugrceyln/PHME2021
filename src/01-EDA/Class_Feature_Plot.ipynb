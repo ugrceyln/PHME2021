{
 "cells": [
  {
   "cell_type": "code",
   "execution_count": null,
   "metadata": {},
   "outputs": [],
   "source": [
    "import pandas as pd\n",
    "from sklearn.model_selection import KFold, StratifiedKFold\n",
    "import os\n",
    "\n",
    "import seaborn as sns\n",
    "\n",
    "import matplotlib.pyplot as plt\n",
    "\n",
    "%matplotlib inline"
   ]
  },
  {
   "cell_type": "code",
   "execution_count": null,
   "metadata": {},
   "outputs": [],
   "source": [
    "# import data\n",
    "data_df_1 = pd.read_csv(\"../../data/training_validation_1.csv\")\n",
    "data_df_2 = pd.read_csv(\"../../data/training_validation_2.csv\")\n",
    "data_df_3 = pd.read_csv(\"../../data/model_refinement.csv\")\n",
    "merged_df = pd.concat([data_df_1, data_df_2, data_df_3], axis=0) # Merge data frames\n",
    "train_df = merged_df.copy() #merged_df.filter(regex=\"vCnt|value|class|run\")\n",
    "\n"
   ]
  },
  {
   "cell_type": "code",
   "execution_count": null,
   "metadata": {},
   "outputs": [],
   "source": [
    "train_df.head()"
   ]
  },
  {
   "cell_type": "code",
   "execution_count": null,
   "metadata": {},
   "outputs": [],
   "source": []
  },
  {
   "cell_type": "code",
   "execution_count": null,
   "metadata": {},
   "outputs": [],
   "source": [
    "def plot_regular(df, f1, fname):\n",
    "    fig = plt.figure(figsize=(10,8))\n",
    "    plt.plot(df.index, df, marker='.', color='blue')\n",
    "\n",
    "    ma_df = df.rolling(window=10).mean()\n",
    "    plt.plot(ma_df.index, ma_df, marker='.', color='red')\n",
    "    \n",
    "    plt.xlabel('time')\n",
    "    plt.ylabel(f1)\n",
    "    plt.savefig(fname, dpi=100)\n",
    "    plt.close()\n",
    "    "
   ]
  },
  {
   "cell_type": "code",
   "execution_count": null,
   "metadata": {},
   "outputs": [],
   "source": [
    "features = train_df.columns\n"
   ]
  },
  {
   "cell_type": "code",
   "execution_count": null,
   "metadata": {},
   "outputs": [],
   "source": [
    "d = \"features_v1\"\n",
    "ws = 60\n",
    "\n",
    "def plot_class_feature(df):\n",
    "    \n",
    "    for f1 in features:\n",
    "#         print(cs, rs, f1)\n",
    "\n",
    "        if (f1 in ['class', 'run']): continue\n",
    "        \n",
    "        dir = os.path.join(d, f1)\n",
    "        if not os.path.isdir(dir): os.mkdir(dir) \n",
    "\n",
    "        fig = plt.figure(figsize=(10,8))\n",
    "\n",
    "        for r in df['run'].unique():\n",
    "            r_df = df[df['run'] == r].reset_index()\n",
    "\n",
    "            c, r = int(r_df.iloc[0]['class']), int(r_df.iloc[0]['run'])\n",
    "            cs, rs = str(c), str(r)\n",
    "\n",
    "            feature_df = r_df[f1].reset_index()\n",
    "#             plt.plot(feature_df.index, feature_df.values, marker='.', color='blue')\n",
    "            ma_df = feature_df.rolling(window=ws).mean()\n",
    "            plt.plot(ma_df.index, ma_df, marker='.')\n",
    "\n",
    "        plt.xlabel('time')\n",
    "        plt.ylabel(f1)\n",
    "        plt.savefig(os.path.join(dir, \"_\".join([\"class\", cs])) + \".jpg\", dpi=100)\n",
    "        plt.close()\n",
    "            \n"
   ]
  },
  {
   "cell_type": "code",
   "execution_count": null,
   "metadata": {},
   "outputs": [],
   "source": [
    "for c in train_df['class'].unique():\n",
    "    df = train_df[(train_df['class'] == c)]\n",
    "    plot_class_feature(df)"
   ]
  },
  {
   "cell_type": "code",
   "execution_count": null,
   "metadata": {},
   "outputs": [],
   "source": []
  }
 ],
 "metadata": {
  "kernelspec": {
   "display_name": "Python 3",
   "language": "python",
   "name": "python3"
  },
  "language_info": {
   "codemirror_mode": {
    "name": "ipython",
    "version": 3
   },
   "file_extension": ".py",
   "mimetype": "text/x-python",
   "name": "python",
   "nbconvert_exporter": "python",
   "pygments_lexer": "ipython3",
   "version": "3.7.10"
  }
 },
 "nbformat": 4,
 "nbformat_minor": 4
}
