{
 "cells": [
  {
   "cell_type": "code",
   "execution_count": 1,
   "metadata": {},
   "outputs": [],
   "source": [
    "import numpy as np\n",
    "import pandas as pd\n",
    "from numpy import nan\n",
    "\n",
    "import matplotlib.pyplot as plt\n",
    "\n",
    "%matplotlib inline"
   ]
  },
  {
   "cell_type": "code",
   "execution_count": 2,
   "metadata": {},
   "outputs": [],
   "source": [
    "data_df_1 = pd.read_csv(\"../../data/training_validation_1.csv\")\n",
    "data_df_2 = pd.read_csv(\"../../data/training_validation_2.csv\")\n",
    "data_df = pd.concat([data_df_1, data_df_2], axis=0) # Merge data frames\n"
   ]
  },
  {
   "cell_type": "code",
   "execution_count": 3,
   "metadata": {},
   "outputs": [
    {
     "data": {
      "text/plain": [
       "(39611, 249)"
      ]
     },
     "execution_count": 3,
     "metadata": {},
     "output_type": "execute_result"
    }
   ],
   "source": [
    "data_df.shape"
   ]
  },
  {
   "cell_type": "code",
   "execution_count": 4,
   "metadata": {},
   "outputs": [],
   "source": [
    "class_0_df = data_df[data_df['class'] == 0]"
   ]
  },
  {
   "cell_type": "code",
   "execution_count": 5,
   "metadata": {},
   "outputs": [
    {
     "data": {
      "text/plain": [
       "(25236, 249)"
      ]
     },
     "execution_count": 5,
     "metadata": {},
     "output_type": "execute_result"
    }
   ],
   "source": [
    "class_0_df.shape"
   ]
  },
  {
   "cell_type": "code",
   "execution_count": 6,
   "metadata": {},
   "outputs": [
    {
     "data": {
      "text/html": [
       "<div>\n",
       "<style scoped>\n",
       "    .dataframe tbody tr th:only-of-type {\n",
       "        vertical-align: middle;\n",
       "    }\n",
       "\n",
       "    .dataframe tbody tr th {\n",
       "        vertical-align: top;\n",
       "    }\n",
       "\n",
       "    .dataframe thead th {\n",
       "        text-align: right;\n",
       "    }\n",
       "</style>\n",
       "<table border=\"1\" class=\"dataframe\">\n",
       "  <thead>\n",
       "    <tr style=\"text-align: right;\">\n",
       "      <th></th>\n",
       "      <th>CpuTemperature_vMax</th>\n",
       "      <th>CpuTemperature_vMin</th>\n",
       "      <th>CpuTemperature_vStd</th>\n",
       "      <th>CpuTemperature_value</th>\n",
       "      <th>DurationPickToPick_vCnt</th>\n",
       "      <th>DurationPickToPick_vFreq</th>\n",
       "      <th>DurationPickToPick_vMax</th>\n",
       "      <th>DurationPickToPick_vMin</th>\n",
       "      <th>DurationPickToPick_vStd</th>\n",
       "      <th>DurationPickToPick_vTrend</th>\n",
       "      <th>...</th>\n",
       "      <th>VacuumValveClosed_vMin</th>\n",
       "      <th>VacuumValveClosed_vStd</th>\n",
       "      <th>VacuumValveClosed_vTrend</th>\n",
       "      <th>VacuumValveClosed_value</th>\n",
       "      <th>ValidFrame_vCnt</th>\n",
       "      <th>ValidFrame_vFreq</th>\n",
       "      <th>ValidFrameOptrisPIIRCamera_vCnt</th>\n",
       "      <th>ValidFrameOptrisPIIRCamera_vFreq</th>\n",
       "      <th>class</th>\n",
       "      <th>run</th>\n",
       "    </tr>\n",
       "  </thead>\n",
       "  <tbody>\n",
       "    <tr>\n",
       "      <th>0</th>\n",
       "      <td>56.75</td>\n",
       "      <td>44.75</td>\n",
       "      <td>3.523729</td>\n",
       "      <td>47.833333</td>\n",
       "      <td>0</td>\n",
       "      <td>0.000000</td>\n",
       "      <td>NaN</td>\n",
       "      <td>NaN</td>\n",
       "      <td>NaN</td>\n",
       "      <td>NaN</td>\n",
       "      <td>...</td>\n",
       "      <td>NaN</td>\n",
       "      <td>NaN</td>\n",
       "      <td>NaN</td>\n",
       "      <td>NaN</td>\n",
       "      <td>89.0</td>\n",
       "      <td>11.457455</td>\n",
       "      <td>259.0</td>\n",
       "      <td>27.582899</td>\n",
       "      <td>0</td>\n",
       "      <td>0</td>\n",
       "    </tr>\n",
       "    <tr>\n",
       "      <th>1</th>\n",
       "      <td>48.75</td>\n",
       "      <td>42.25</td>\n",
       "      <td>2.395308</td>\n",
       "      <td>45.000000</td>\n",
       "      <td>2</td>\n",
       "      <td>0.198207</td>\n",
       "      <td>3.192</td>\n",
       "      <td>2.807</td>\n",
       "      <td>0.192500</td>\n",
       "      <td>0.385</td>\n",
       "      <td>...</td>\n",
       "      <td>-0.715812</td>\n",
       "      <td>0.112918</td>\n",
       "      <td>-0.013857</td>\n",
       "      <td>-0.580892</td>\n",
       "      <td>114.0</td>\n",
       "      <td>11.299041</td>\n",
       "      <td>273.0</td>\n",
       "      <td>27.058227</td>\n",
       "      <td>0</td>\n",
       "      <td>0</td>\n",
       "    </tr>\n",
       "    <tr>\n",
       "      <th>2</th>\n",
       "      <td>47.50</td>\n",
       "      <td>42.00</td>\n",
       "      <td>2.085815</td>\n",
       "      <td>43.825000</td>\n",
       "      <td>3</td>\n",
       "      <td>0.296778</td>\n",
       "      <td>3.230</td>\n",
       "      <td>3.106</td>\n",
       "      <td>0.051674</td>\n",
       "      <td>0.020</td>\n",
       "      <td>...</td>\n",
       "      <td>-0.721671</td>\n",
       "      <td>0.109421</td>\n",
       "      <td>-0.008111</td>\n",
       "      <td>-0.596008</td>\n",
       "      <td>114.0</td>\n",
       "      <td>11.277551</td>\n",
       "      <td>272.0</td>\n",
       "      <td>26.907842</td>\n",
       "      <td>0</td>\n",
       "      <td>0</td>\n",
       "    </tr>\n",
       "    <tr>\n",
       "      <th>3</th>\n",
       "      <td>48.25</td>\n",
       "      <td>42.25</td>\n",
       "      <td>1.853375</td>\n",
       "      <td>45.200000</td>\n",
       "      <td>3</td>\n",
       "      <td>0.298541</td>\n",
       "      <td>3.307</td>\n",
       "      <td>3.103</td>\n",
       "      <td>0.085391</td>\n",
       "      <td>0.031</td>\n",
       "      <td>...</td>\n",
       "      <td>-0.745598</td>\n",
       "      <td>0.116748</td>\n",
       "      <td>-0.002082</td>\n",
       "      <td>-0.595118</td>\n",
       "      <td>114.0</td>\n",
       "      <td>11.344572</td>\n",
       "      <td>271.0</td>\n",
       "      <td>26.968238</td>\n",
       "      <td>0</td>\n",
       "      <td>0</td>\n",
       "    </tr>\n",
       "    <tr>\n",
       "      <th>4</th>\n",
       "      <td>50.00</td>\n",
       "      <td>42.50</td>\n",
       "      <td>2.661766</td>\n",
       "      <td>45.700000</td>\n",
       "      <td>3</td>\n",
       "      <td>0.298554</td>\n",
       "      <td>3.242</td>\n",
       "      <td>3.153</td>\n",
       "      <td>0.038577</td>\n",
       "      <td>-0.036</td>\n",
       "      <td>...</td>\n",
       "      <td>-0.720206</td>\n",
       "      <td>0.112639</td>\n",
       "      <td>-0.001516</td>\n",
       "      <td>-0.615755</td>\n",
       "      <td>113.0</td>\n",
       "      <td>11.245550</td>\n",
       "      <td>271.0</td>\n",
       "      <td>26.969415</td>\n",
       "      <td>0</td>\n",
       "      <td>0</td>\n",
       "    </tr>\n",
       "  </tbody>\n",
       "</table>\n",
       "<p>5 rows × 249 columns</p>\n",
       "</div>"
      ],
      "text/plain": [
       "   CpuTemperature_vMax  CpuTemperature_vMin  CpuTemperature_vStd  \\\n",
       "0                56.75                44.75             3.523729   \n",
       "1                48.75                42.25             2.395308   \n",
       "2                47.50                42.00             2.085815   \n",
       "3                48.25                42.25             1.853375   \n",
       "4                50.00                42.50             2.661766   \n",
       "\n",
       "   CpuTemperature_value  DurationPickToPick_vCnt  DurationPickToPick_vFreq  \\\n",
       "0             47.833333                        0                  0.000000   \n",
       "1             45.000000                        2                  0.198207   \n",
       "2             43.825000                        3                  0.296778   \n",
       "3             45.200000                        3                  0.298541   \n",
       "4             45.700000                        3                  0.298554   \n",
       "\n",
       "   DurationPickToPick_vMax  DurationPickToPick_vMin  DurationPickToPick_vStd  \\\n",
       "0                      NaN                      NaN                      NaN   \n",
       "1                    3.192                    2.807                 0.192500   \n",
       "2                    3.230                    3.106                 0.051674   \n",
       "3                    3.307                    3.103                 0.085391   \n",
       "4                    3.242                    3.153                 0.038577   \n",
       "\n",
       "   DurationPickToPick_vTrend  ...  VacuumValveClosed_vMin  \\\n",
       "0                        NaN  ...                     NaN   \n",
       "1                      0.385  ...               -0.715812   \n",
       "2                      0.020  ...               -0.721671   \n",
       "3                      0.031  ...               -0.745598   \n",
       "4                     -0.036  ...               -0.720206   \n",
       "\n",
       "   VacuumValveClosed_vStd  VacuumValveClosed_vTrend  VacuumValveClosed_value  \\\n",
       "0                     NaN                       NaN                      NaN   \n",
       "1                0.112918                 -0.013857                -0.580892   \n",
       "2                0.109421                 -0.008111                -0.596008   \n",
       "3                0.116748                 -0.002082                -0.595118   \n",
       "4                0.112639                 -0.001516                -0.615755   \n",
       "\n",
       "   ValidFrame_vCnt  ValidFrame_vFreq  ValidFrameOptrisPIIRCamera_vCnt  \\\n",
       "0             89.0         11.457455                            259.0   \n",
       "1            114.0         11.299041                            273.0   \n",
       "2            114.0         11.277551                            272.0   \n",
       "3            114.0         11.344572                            271.0   \n",
       "4            113.0         11.245550                            271.0   \n",
       "\n",
       "   ValidFrameOptrisPIIRCamera_vFreq  class  run  \n",
       "0                         27.582899      0    0  \n",
       "1                         27.058227      0    0  \n",
       "2                         26.907842      0    0  \n",
       "3                         26.968238      0    0  \n",
       "4                         26.969415      0    0  \n",
       "\n",
       "[5 rows x 249 columns]"
      ]
     },
     "execution_count": 6,
     "metadata": {},
     "output_type": "execute_result"
    }
   ],
   "source": [
    "class_0_df.head()"
   ]
  },
  {
   "cell_type": "code",
   "execution_count": 7,
   "metadata": {},
   "outputs": [],
   "source": [
    "from sklearn.cluster import DBSCAN"
   ]
  },
  {
   "cell_type": "code",
   "execution_count": 8,
   "metadata": {},
   "outputs": [],
   "source": [
    "df = class_0_df.copy()\n",
    "del df['class']\n",
    "df = df.fillna(method='backfill')\n",
    "# X_train = X_train.fillna(-30000)"
   ]
  },
  {
   "cell_type": "code",
   "execution_count": 9,
   "metadata": {},
   "outputs": [
    {
     "data": {
      "text/plain": [
       "(True, False)"
      ]
     },
     "execution_count": 9,
     "metadata": {},
     "output_type": "execute_result"
    }
   ],
   "source": [
    "np.any(np.isnan(df.values)), np.all(np.isfinite(df.values))\n",
    "\n"
   ]
  },
  {
   "cell_type": "code",
   "execution_count": 10,
   "metadata": {},
   "outputs": [],
   "source": [
    "from sklearn.preprocessing import StandardScaler, MinMaxScaler\n",
    "from sklearn.decomposition import PCA"
   ]
  },
  {
   "cell_type": "code",
   "execution_count": 11,
   "metadata": {},
   "outputs": [
    {
     "data": {
      "text/plain": [
       "(25236, 59)"
      ]
     },
     "execution_count": 11,
     "metadata": {},
     "output_type": "execute_result"
    }
   ],
   "source": [
    "some_df = df.dropna(axis=1)\n",
    "# del some_df['class']\n",
    "del some_df['run']\n",
    "\n",
    "some_df = some_df.filter(regex=\"vCnt|value\")\n",
    "some_df.shape\n",
    "\n"
   ]
  },
  {
   "cell_type": "code",
   "execution_count": 12,
   "metadata": {},
   "outputs": [
    {
     "data": {
      "text/plain": [
       "array([[ -0.50448497,  -5.55964688,  -4.91055701, ...,  -2.99215467,\n",
       "        -10.95534263,  -2.52225859],\n",
       "       [ -0.96554986,  -1.94758683,  -0.05566187, ...,  -1.43896199,\n",
       "          0.16464061,   0.52123944],\n",
       "       [ -1.15675618,  -0.1415568 ,  -0.05566187, ...,  -0.60262747,\n",
       "          0.16464061,   0.30384672],\n",
       "       ...,\n",
       "       [  1.61776962,  -3.75361685,  -1.67396025, ...,   1.78689972,\n",
       "          0.16464061,   0.08645401],\n",
       "       [  1.47131371,  -5.55964688,  -4.91055701, ...,  -2.99215467,\n",
       "          0.16464061,  -0.13093871],\n",
       "       [  1.98390939,  -5.55964688,  -4.91055701, ...,  -2.99215467,\n",
       "         -0.28015872,  -0.13093871]])"
      ]
     },
     "execution_count": 12,
     "metadata": {},
     "output_type": "execute_result"
    }
   ],
   "source": [
    "X_train = StandardScaler().fit_transform(some_df.values)\n",
    "# X_train = MinMaxScaler().fit_transform(some_df.values)\n",
    "X_train"
   ]
  },
  {
   "cell_type": "code",
   "execution_count": 13,
   "metadata": {},
   "outputs": [
    {
     "name": "stdout",
     "output_type": "stream",
     "text": [
      "Wall time: 2min 32s\n"
     ]
    },
    {
     "data": {
      "text/plain": [
       "1"
      ]
     },
     "execution_count": 13,
     "metadata": {},
     "output_type": "execute_result"
    }
   ],
   "source": [
    "%%time\n",
    "model = DBSCAN().fit(X_train)\n",
    "len(set(model.labels_))"
   ]
  },
  {
   "cell_type": "code",
   "execution_count": null,
   "metadata": {},
   "outputs": [],
   "source": []
  },
  {
   "cell_type": "code",
   "execution_count": 14,
   "metadata": {},
   "outputs": [
    {
     "data": {
      "text/plain": [
       "array([[0.23877443, 0.        , 0.        , ..., 0.        , 0.56296296,\n",
       "        0.59021407],\n",
       "       [0.14896989, 0.5       , 0.75      , ..., 0.15853659, 0.74814815,\n",
       "        0.63302752],\n",
       "       [0.11172742, 0.75      , 0.75      , ..., 0.24390244, 0.74814815,\n",
       "        0.62996942],\n",
       "       ...,\n",
       "       [0.65213946, 0.25      , 0.5       , ..., 0.48780488, 0.74814815,\n",
       "        0.62691131],\n",
       "       [0.62361331, 0.        , 0.        , ..., 0.        , 0.74814815,\n",
       "        0.62385321],\n",
       "       [0.72345483, 0.        , 0.        , ..., 0.        , 0.74074074,\n",
       "        0.62385321]])"
      ]
     },
     "execution_count": 14,
     "metadata": {},
     "output_type": "execute_result"
    }
   ],
   "source": [
    "# X_train = StandardScaler().fit_transform(some_df.values)\n",
    "X_train = MinMaxScaler().fit_transform(some_df.values)\n",
    "X_train"
   ]
  },
  {
   "cell_type": "code",
   "execution_count": 15,
   "metadata": {},
   "outputs": [
    {
     "name": "stdout",
     "output_type": "stream",
     "text": [
      "Wall time: 2min 35s\n"
     ]
    },
    {
     "data": {
      "text/plain": [
       "97"
      ]
     },
     "execution_count": 15,
     "metadata": {},
     "output_type": "execute_result"
    }
   ],
   "source": [
    "%%time\n",
    "model = DBSCAN().fit(X_train)\n",
    "len(set(model.labels_))"
   ]
  },
  {
   "cell_type": "code",
   "execution_count": null,
   "metadata": {},
   "outputs": [],
   "source": []
  },
  {
   "cell_type": "code",
   "execution_count": 16,
   "metadata": {},
   "outputs": [
    {
     "data": {
      "text/plain": [
       "array([[ -0.50448497,  -5.55964688,  -4.91055701, ...,  -2.99215467,\n",
       "        -10.95534263,  -2.52225859],\n",
       "       [ -0.96554986,  -1.94758683,  -0.05566187, ...,  -1.43896199,\n",
       "          0.16464061,   0.52123944],\n",
       "       [ -1.15675618,  -0.1415568 ,  -0.05566187, ...,  -0.60262747,\n",
       "          0.16464061,   0.30384672],\n",
       "       ...,\n",
       "       [  1.61776962,  -3.75361685,  -1.67396025, ...,   1.78689972,\n",
       "          0.16464061,   0.08645401],\n",
       "       [  1.47131371,  -5.55964688,  -4.91055701, ...,  -2.99215467,\n",
       "          0.16464061,  -0.13093871],\n",
       "       [  1.98390939,  -5.55964688,  -4.91055701, ...,  -2.99215467,\n",
       "         -0.28015872,  -0.13093871]])"
      ]
     },
     "execution_count": 16,
     "metadata": {},
     "output_type": "execute_result"
    }
   ],
   "source": [
    "X_train = StandardScaler().fit_transform(some_df.values)\n",
    "# X_train = MinMaxScaler().fit_transform(some_df.values)\n",
    "X_train"
   ]
  },
  {
   "cell_type": "code",
   "execution_count": 17,
   "metadata": {},
   "outputs": [
    {
     "data": {
      "text/plain": [
       "(25236, 24)"
      ]
     },
     "execution_count": 17,
     "metadata": {},
     "output_type": "execute_result"
    }
   ],
   "source": [
    "X_train = PCA(n_components=0.95).fit_transform(X_train)\n",
    "X_train.shape"
   ]
  },
  {
   "cell_type": "code",
   "execution_count": 18,
   "metadata": {},
   "outputs": [
    {
     "name": "stdout",
     "output_type": "stream",
     "text": [
      "Wall time: 12.1 s\n"
     ]
    },
    {
     "data": {
      "text/plain": [
       "1"
      ]
     },
     "execution_count": 18,
     "metadata": {},
     "output_type": "execute_result"
    }
   ],
   "source": [
    "%%time\n",
    "model = DBSCAN().fit(X_train)\n",
    "len(set(model.labels_))"
   ]
  },
  {
   "cell_type": "code",
   "execution_count": null,
   "metadata": {},
   "outputs": [],
   "source": []
  },
  {
   "cell_type": "code",
   "execution_count": 19,
   "metadata": {},
   "outputs": [
    {
     "data": {
      "text/plain": [
       "array([[0.23877443, 0.        , 0.        , ..., 0.        , 0.56296296,\n",
       "        0.59021407],\n",
       "       [0.14896989, 0.5       , 0.75      , ..., 0.15853659, 0.74814815,\n",
       "        0.63302752],\n",
       "       [0.11172742, 0.75      , 0.75      , ..., 0.24390244, 0.74814815,\n",
       "        0.62996942],\n",
       "       ...,\n",
       "       [0.65213946, 0.25      , 0.5       , ..., 0.48780488, 0.74814815,\n",
       "        0.62691131],\n",
       "       [0.62361331, 0.        , 0.        , ..., 0.        , 0.74814815,\n",
       "        0.62385321],\n",
       "       [0.72345483, 0.        , 0.        , ..., 0.        , 0.74074074,\n",
       "        0.62385321]])"
      ]
     },
     "execution_count": 19,
     "metadata": {},
     "output_type": "execute_result"
    }
   ],
   "source": [
    "# X_train = StandardScaler().fit_transform(some_df.values)\n",
    "X_train = MinMaxScaler().fit_transform(some_df.values)\n",
    "X_train"
   ]
  },
  {
   "cell_type": "code",
   "execution_count": 20,
   "metadata": {},
   "outputs": [
    {
     "data": {
      "text/plain": [
       "(25236, 30)"
      ]
     },
     "execution_count": 20,
     "metadata": {},
     "output_type": "execute_result"
    }
   ],
   "source": [
    "X_train = PCA(n_components=0.99).fit_transform(X_train)\n",
    "X_train.shape"
   ]
  },
  {
   "cell_type": "code",
   "execution_count": 21,
   "metadata": {},
   "outputs": [
    {
     "name": "stdout",
     "output_type": "stream",
     "text": [
      "Wall time: 50.4 s\n"
     ]
    },
    {
     "data": {
      "text/plain": [
       "92"
      ]
     },
     "execution_count": 21,
     "metadata": {},
     "output_type": "execute_result"
    }
   ],
   "source": [
    "%%time\n",
    "model = DBSCAN().fit(X_train)\n",
    "len(set(model.labels_))"
   ]
  },
  {
   "cell_type": "code",
   "execution_count": null,
   "metadata": {},
   "outputs": [],
   "source": [
    "fig = plt.figure(figsize=(15,10))\n",
    "ax = fig.add_subplot(projection='3d')\n",
    "\n",
    "# ax.scatter(X_train[:,0], X_train[:,1], X_train[:,2])\n",
    "\n",
    "for label in set(model.labels_):\n",
    "    ax.scatter(X_train[model.labels_==label,0], X_train[model.labels_==label,1], X_train[model.labels_==label,2])\n"
   ]
  },
  {
   "cell_type": "code",
   "execution_count": null,
   "metadata": {},
   "outputs": [],
   "source": []
  }
 ],
 "metadata": {
  "kernelspec": {
   "display_name": "Python 3",
   "language": "python",
   "name": "python3"
  },
  "language_info": {
   "codemirror_mode": {
    "name": "ipython",
    "version": 3
   },
   "file_extension": ".py",
   "mimetype": "text/x-python",
   "name": "python",
   "nbconvert_exporter": "python",
   "pygments_lexer": "ipython3",
   "version": "3.6.10"
  }
 },
 "nbformat": 4,
 "nbformat_minor": 4
}
