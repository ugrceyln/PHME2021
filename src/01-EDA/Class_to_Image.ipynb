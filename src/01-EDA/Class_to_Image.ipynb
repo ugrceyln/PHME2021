{
 "cells": [
  {
   "cell_type": "code",
   "execution_count": null,
   "metadata": {},
   "outputs": [],
   "source": [
    "import numpy as np\n",
    "import pandas as pd\n",
    "from sklearn.model_selection import KFold, StratifiedKFold\n",
    "import os\n",
    "\n",
    "import matplotlib.pyplot as plt\n",
    "\n",
    "from sklearn.preprocessing import StandardScaler, MinMaxScaler\n",
    "\n",
    "%matplotlib inline"
   ]
  },
  {
   "cell_type": "code",
   "execution_count": null,
   "metadata": {},
   "outputs": [],
   "source": [
    "# import data\n",
    "data_df_1 = pd.read_csv(\"../../data/training_validation_1.csv\")\n",
    "data_df_2 = pd.read_csv(\"../../data/training_validation_2.csv\")\n",
    "data_df_3 = pd.read_csv(\"../../data/model_refinement.csv\")\n",
    "merged_df = pd.concat([data_df_1, data_df_2, data_df_3], axis=0) # Merge data frames\n",
    "train_df = merged_df.copy() #merged_df.filter(regex=\"vCnt|value|class|run\")\n",
    "\n"
   ]
  },
  {
   "cell_type": "code",
   "execution_count": null,
   "metadata": {},
   "outputs": [],
   "source": [
    "sensor_list = list(train_df.columns)\n",
    "sensor_list.remove('class')\n",
    "len(sensor_list)"
   ]
  },
  {
   "cell_type": "code",
   "execution_count": null,
   "metadata": {},
   "outputs": [],
   "source": [
    "from PIL import Image\n",
    "import skimage.color"
   ]
  },
  {
   "cell_type": "code",
   "execution_count": null,
   "metadata": {},
   "outputs": [],
   "source": [
    "d = \"class_images_v2_i1\"\n",
    "\n",
    "def class_image(df):\n",
    "    c, r = int(df.iloc[0]['class']), int(df.iloc[0]['run'])\n",
    "    cs, rs = str(c), str(r)\n",
    "    \n",
    "    new_df = df.fillna(method='ffill').fillna(method='bfill')\n",
    "\n",
    "#     df = df.filter(regex='vCnt|value').values\n",
    "    df = df.filter(sensor_list).values\n",
    "\n",
    "    img = np.transpose(MinMaxScaler().fit_transform(df))\n",
    "    \n",
    "    img1 = img.astype(np.uint8) * 255\n",
    "    img2 = np.sin(2**0 * np.pi * img).astype(np.uint8) * 255\n",
    "    img3 = np.cos(2**0 * np.pi * img).astype(np.uint8) * 255\n",
    "    \n",
    "    img4 = img.astype(np.uint8) * 255\n",
    "    img5 = np.sin(2**1 * np.pi * img).astype(np.uint8) * 255\n",
    "    img6 = np.cos(2**1 * np.pi * img).astype(np.uint8) * 255\n",
    "\n",
    "    img789 = skimage.color.gray2rgb(img*255)\n",
    "\n",
    "    result = np.zeros((3*img.shape[0], 1450, 3))\n",
    "    \n",
    "    n = img.shape[0]\n",
    "    result[0:n, 0:img.shape[1], 0] = img1\n",
    "    result[0:n, 0:img.shape[1], 1] = img2\n",
    "    result[0:n, 0:img.shape[1], 2] = img3\n",
    "\n",
    "    result[n:2*n, 0:img.shape[1], 0] = img4\n",
    "    result[n:2*n, 0:img.shape[1], 1] = img5\n",
    "    result[n:2*n, 0:img.shape[1], 2] = img6\n",
    "    \n",
    "    result[2*n:, 0:img.shape[1]] = img789[:,:]\n",
    "\n",
    "    im = Image.fromarray(result.astype('uint8'), 'RGB')\n",
    "    \n",
    "    im.save(os.path.join(d, \"_\".join([\"class\", cs, \"run\", rs])) + \".png\")\n"
   ]
  },
  {
   "cell_type": "code",
   "execution_count": null,
   "metadata": {},
   "outputs": [],
   "source": [
    "class_run_df = train_df[['class', 'run']].drop_duplicates()"
   ]
  },
  {
   "cell_type": "code",
   "execution_count": null,
   "metadata": {},
   "outputs": [],
   "source": [
    "import gc\n",
    "\n",
    "for c, r in class_run_df.values:\n",
    "    print (c, r)\n",
    "    df = train_df[(train_df['class'] == c) & (train_df['run'] == r)]\n",
    "    class_image(df)\n",
    "    \n",
    "    gc.collect()\n",
    "    \n"
   ]
  },
  {
   "cell_type": "code",
   "execution_count": null,
   "metadata": {},
   "outputs": [],
   "source": []
  }
 ],
 "metadata": {
  "kernelspec": {
   "display_name": "Python 3",
   "language": "python",
   "name": "python3"
  },
  "language_info": {
   "codemirror_mode": {
    "name": "ipython",
    "version": 3
   },
   "file_extension": ".py",
   "mimetype": "text/x-python",
   "name": "python",
   "nbconvert_exporter": "python",
   "pygments_lexer": "ipython3",
   "version": "3.7.10"
  }
 },
 "nbformat": 4,
 "nbformat_minor": 4
}
